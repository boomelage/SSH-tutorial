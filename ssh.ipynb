{
 "cells": [
  {
   "cell_type": "code",
   "execution_count": 1,
   "id": "028f4734-ec2c-4e83-9577-fab12bd7a923",
   "metadata": {},
   "outputs": [],
   "source": [
    "from cryptography.hazmat.primitives.asymmetric import rsa, padding\n",
    "from cryptography.hazmat.primitives import serialization, hashes\n",
    "from cryptography.hazmat.backends import default_backend\n",
    "\n",
    "# 1. Generate SSH-like RSA key pair\n",
    "def generate_key_pair():\n",
    "    private_key = rsa.generate_private_key(\n",
    "        public_exponent=65537, key_size=2048, backend=default_backend()\n",
    "    )\n",
    "    public_key = private_key.public_key()\n",
    "    return private_key, public_key\n",
    "\n",
    "# 2. Encrypt message using public key\n",
    "def encrypt_message(message: str, public_key) -> bytes:\n",
    "    ciphertext = public_key.encrypt(\n",
    "        message.encode(),\n",
    "        padding.OAEP(\n",
    "            mgf=padding.MGF1(algorithm=hashes.SHA256()),\n",
    "            algorithm=hashes.SHA256(),\n",
    "            label=None\n",
    "        )\n",
    "    )\n",
    "    return ciphertext\n",
    "\n",
    "# 3. Decrypt message using private key\n",
    "def decrypt_message(ciphertext: bytes, private_key) -> str:\n",
    "    plaintext = private_key.decrypt(\n",
    "        ciphertext,\n",
    "        padding.OAEP(\n",
    "            mgf=padding.MGF1(algorithm=hashes.SHA256()),\n",
    "            algorithm=hashes.SHA256(),\n",
    "            label=None\n",
    "        )\n",
    "    )\n",
    "    return plaintext.decode()\n",
    "\n",
    "# 4. Serialize keys (optional, for saving/loading)\n",
    "def serialize_keys(private_key, public_key):\n",
    "    private_bytes = private_key.private_bytes(\n",
    "        encoding=serialization.Encoding.PEM,\n",
    "        format=serialization.PrivateFormat.PKCS8,\n",
    "        encryption_algorithm=serialization.NoEncryption()\n",
    "    )\n",
    "    public_bytes = public_key.public_bytes(\n",
    "        encoding=serialization.Encoding.PEM,\n",
    "        format=serialization.PublicFormat.SubjectPublicKeyInfo\n",
    "    )\n",
    "    return private_bytes, public_bytes\n"
   ]
  },
  {
   "cell_type": "code",
   "execution_count": 6,
   "id": "908893cd-fffa-4798-8388-fd203623e6df",
   "metadata": {},
   "outputs": [
    {
     "name": "stdout",
     "output_type": "stream",
     "text": [
      "Original: Top secret message \n",
      "\n",
      "Encrypted: b\"Z\\xb9\\x11SX<93\\x17X\\xc3=#Y\\xc4LF\\xc2\\x1bX\\x80M\\x9b\\rg]\\xb0\\xec(\\xa6\\t\\xb79#\\xec\\xec\\xd6\\xc20\\xeaw\\x9eu\\x08k;&F:?\\x06\\xac{\\xba\\xa9\\xb1\\xe5ON\\xd4\\x0c\\x11}\\x914(\\xc7\\xf9\\xe9\\x030\\x18\\x1d\\x1a\\xbfrf\\xaa\\x91/\\x83\\xa2\\xb9\\xe4v\\x1f|\\x05\\xcaX\\x155\\xdc\\x8dKq\\x1aE\\x08;\\x07\\x99\\xb3\\xc8\\xfd\\xa7\\xbc\\x02\\x06L\\x8b\\xb4\\xb8\\x19\\x94G\\x1d\\xc9\\x98\\x98\\xe3R|\\x00\\x1eQ\\xa2(\\xe7\\x988\\x01\\xc7\\xc8x\\x8d\\r\\xae@\\x814|\\xda\\xc3\\xc4\\x96&9\\xf2\\x91g0|7~P-B\\xd6\\x8f\\xabQ\\x0cc\\xf6l\\x16\\xed\\xf3b\\xe5K\\x82\\x897`\\x17\\x06\\x9bS\\r]\\x191,\\xfb\\xa0\\xae\\xba 3Ka'\\xcd\\xc7\\xb2W~|8\\xaa\\xd9\\xe3\\xe4tg\\x83\\xeb\\xfaE\\xe9T\\xb1\\x0f)\\xfa\\xa9\\xb6C=1\\x1d\\xa9V.\\x1e~3\\xa3\\x87+\\xdf\\x82,/\\xd6\\x17\\xdc\\x02\\xf9\\xef\\x8b!\\xee\\xcdg\\xad\\x98\\xc4+\\x10\\xb3L\\xbaa\" \n",
      "\n",
      "Decrypted: Top secret message\n"
     ]
    }
   ],
   "source": [
    "# Key generation\n",
    "private_key, public_key = generate_key_pair()\n",
    "\n",
    "# Encrypt\n",
    "msg = \"Top secret message\"\n",
    "encrypted = encrypt_message(msg, public_key)\n",
    "\n",
    "# Decrypt\n",
    "decrypted = decrypt_message(encrypted, private_key)\n",
    "\n",
    "print(\"Original:\", msg,\"\\n\")\n",
    "print(\"Encrypted:\", encrypted,\"\\n\")\n",
    "print(\"Decrypted:\", decrypted)\n"
   ]
  }
 ],
 "metadata": {
  "kernelspec": {
   "display_name": "Python 3 (ipykernel)",
   "language": "python",
   "name": "python3"
  },
  "language_info": {
   "codemirror_mode": {
    "name": "ipython",
    "version": 3
   },
   "file_extension": ".py",
   "mimetype": "text/x-python",
   "name": "python",
   "nbconvert_exporter": "python",
   "pygments_lexer": "ipython3",
   "version": "3.12.3"
  }
 },
 "nbformat": 4,
 "nbformat_minor": 5
}
